{
 "cells": [
  {
   "cell_type": "markdown",
   "metadata": {},
   "source": [
    "# Running an ensemble with different snow interception schemes\n",
    "\n",
    "First, we have to install the setup, which simply fixes paths in the file manager."
   ]
  },
  {
   "cell_type": "code",
   "execution_count": 2,
   "metadata": {},
   "outputs": [
    {
     "name": "stdout",
     "output_type": "stream",
     "text": [
      "Populating the interactive namespace from numpy and matplotlib\n"
     ]
    }
   ],
   "source": [
    "%pylab inline\n",
    "import os\n",
    "from pathlib import Path\n",
    "import pysumma as ps\n",
    "import pandas as pd\n",
    "import xarray as xr\n",
    "from matplotlib import cm\n",
    "import seaborn as sns\n",
    "from matplotlib.collections import LineCollection\n",
    "from matplotlib.colors import ListedColormap, BoundaryNorm\n",
    "sns.set_context('talk')\n",
    "mpl.style.use('seaborn-bright')\n",
    "mpl.rcParams['figure.figsize'] = (18, 12)\n",
    "year = lambda x, y: slice('{}/10/01'.format(x), '{}/09/30'.format(y))\n",
    "month = lambda x, y: slice('{}/11/01'.format(x), '{}/12/30'.format(y))"
   ]
  },
  {
   "cell_type": "code",
   "execution_count": 3,
   "metadata": {},
   "outputs": [],
   "source": [
    "executable = '/pool0/data/andrbenn/summa/bin/summa.exe'\n",
    "file_manager = './file_manager.txt'\n",
    "\n",
    "layer_dict = {\n",
    "    'period': 1, 'instant': 0, 'sum': 0, \n",
    "    'mean': 1, 'variance': 0, 'min': 0, 'max': 0\n",
    "}\n",
    "\n",
    "var_dict = {'scalarSnowDepth': layer_dict,\n",
    "            'scalarCanopySnowUnloading': layer_dict,\n",
    "            'scalarCanopyWat': layer_dict,\n",
    "            'mLayerTemp': layer_dict,\n",
    "            'windspd': layer_dict,\n",
    "            'mLayerDepth': layer_dict,\n",
    "            'mLayerHeight': layer_dict,  \n",
    "            'iLayerHeight': layer_dict}\n",
    "\n",
    "config = {'melt': {\n",
    "             'decisions': {'snowIncept': 'stickySnow', 'snowUnload': 'meltDripUnload'},\n",
    "             'output_control': var_dict\n",
    "         },\n",
    "         'wind': {\n",
    "             'decisions': {'snowIncept': 'stickySnow', 'snowUnload': 'windUnload'},\n",
    "             'output_control': var_dict\n",
    "         }}"
   ]
  },
  {
   "cell_type": "code",
   "execution_count": 4,
   "metadata": {},
   "outputs": [
    {
     "name": "stderr",
     "output_type": "stream",
     "text": [
      "/pool0/data/andrbenn/.conda/all/lib/python3.7/site-packages/distributed/dashboard/core.py:72: UserWarning: \n",
      "Port 8787 is already in use. \n",
      "Perhaps you already have a cluster running?\n",
      "Hosting the diagnostics dashboard on a random port instead.\n",
      "  warnings.warn(\"\\n\" + msg)\n"
     ]
    }
   ],
   "source": [
    "ens = ps.Ensemble(executable, config, file_manager, num_workers=len(config))"
   ]
  },
  {
   "cell_type": "code",
   "execution_count": 5,
   "metadata": {},
   "outputs": [],
   "source": [
    "ens.run('local')"
   ]
  },
  {
   "cell_type": "code",
   "execution_count": 6,
   "metadata": {},
   "outputs": [
    {
     "data": {
      "text/plain": [
       "\"file_suffix is 'melt'.\\nfile_master is '/pool0/data/andrbenn/dana_windysnow_test/file_manager.txt'.\\ndecisions file =  /pool0/data/andrbenn/dana_windysnow_test/settings/decisions.txt\\n   1 simulStart: 2002-10-01 00:00\\n   2 simulFinsh: 2003-05-31 00:00\\n   3 tmZoneInfo: localTime\\n   4 soilCatTbl: ROSETTA\\n   5 vegeParTbl: MODIFIED_IGBP_MODIS_NOAH\\n   6 soilStress: NoahType\\n   7 stomResist: BallBerry\\n   8 num_method: itertive\\n   9 fDerivMeth: analytic\\n  10 LAI_method: monTable\\n  11 f_Richards: mixdform\\n  12 groundwatr: qTopmodl\\n  13 hc_profile: pow_prof\\n  14 bcUpprTdyn: nrg_flux\\n  15 bcLowrTdyn: zeroFlux\\n  16 bcUpprSoiH: liq_flux\\n  17 bcLowrSoiH: zeroFlux\\n  18 veg_traits: CM_QJRMS1988\\n  19 rootProfil: powerLaw\\n  20 canopyEmis: difTrans\\n  21 snowIncept: stickySnow\\n  22 snowUnload: windUnload\\n\\n\\nFATAL ERROR: summa_paramSetup/mDecisions/readoption/cannotFindDecisionIndex[name='snowUnload']\\n\\n\""
      ]
     },
     "execution_count": 6,
     "metadata": {},
     "output_type": "execute_result"
    }
   ],
   "source": [
    "ens.simulations['melt'].stdout"
   ]
  },
  {
   "cell_type": "code",
   "execution_count": null,
   "metadata": {},
   "outputs": [],
   "source": [
    "ens.run('local')"
   ]
  },
  {
   "cell_type": "code",
   "execution_count": null,
   "metadata": {},
   "outputs": [],
   "source": [
    "for k, s in ens.simulations.items():\n",
    "    print(s.status)"
   ]
  },
  {
   "cell_type": "code",
   "execution_count": null,
   "metadata": {},
   "outputs": [],
   "source": [
    "print(list(ens.simulations.values())[-1].stdout[-5600:])"
   ]
  },
  {
   "cell_type": "code",
   "execution_count": null,
   "metadata": {},
   "outputs": [],
   "source": [
    "#ds_jrdn, ds_clm, \n",
    "ds_melt, ds_wind = [s.output for s in ens.simulations.values()]"
   ]
  },
  {
   "cell_type": "code",
   "execution_count": null,
   "metadata": {},
   "outputs": [],
   "source": [
    "ts = slice('2001-03-20', '2003-05-31')"
   ]
  },
  {
   "cell_type": "code",
   "execution_count": null,
   "metadata": {},
   "outputs": [],
   "source": [
    "ds_melt['scalarCanopyWat_mean'].sel(time=ts).plot(label='melt')\n",
    "ds_wind['scalarCanopyWat_mean'].sel(time=ts).plot(label='wind')\n",
    "plt.legend()"
   ]
  },
  {
   "cell_type": "code",
   "execution_count": null,
   "metadata": {},
   "outputs": [],
   "source": [
    "(3600*ds_melt['pptrate'].sel(time=ts)).plot(label='melt')\n",
    "(3600*ds_wind['pptrate'].sel(time=ts)).plot(label='wind')\n",
    "plt.legend()"
   ]
  },
  {
   "cell_type": "code",
   "execution_count": null,
   "metadata": {},
   "outputs": [],
   "source": [
    "ds_melt['scalarSnowDepth_mean'].sel(time=ts).plot(label='melt')\n",
    "ds_wind['scalarSnowDepth_mean'].sel(time=ts).plot(label='wind')\n",
    "plt.legend()"
   ]
  },
  {
   "cell_type": "code",
   "execution_count": null,
   "metadata": {},
   "outputs": [],
   "source": [
    "ds_melt['windspd_mean'].sel(time=ts).plot(label='melt')\n",
    "ds_wind['windspd_mean'].sel(time=ts).plot(label='wind')\n",
    "plt.legend()"
   ]
  },
  {
   "cell_type": "code",
   "execution_count": null,
   "metadata": {},
   "outputs": [],
   "source": [
    "(ds_melt['airtemp'] - 273.16).sel(time=ts).plot(label='melt')\n",
    "(ds_wind['airtemp'] - 273.16).sel(time=ts).plot(label='wind')\n",
    "plt.legend()"
   ]
  },
  {
   "cell_type": "code",
   "execution_count": null,
   "metadata": {},
   "outputs": [],
   "source": []
  },
  {
   "cell_type": "code",
   "execution_count": null,
   "metadata": {},
   "outputs": [],
   "source": []
  },
  {
   "cell_type": "code",
   "execution_count": null,
   "metadata": {},
   "outputs": [],
   "source": []
  }
 ],
 "metadata": {
  "@deathbeds/jupyterlab-fonts": {
   "styles": {
    ":root": {
     "--jp-code-font-size": "14px",
     "--jp-content-font-size1": "14px"
    }
   }
  },
  "kernelspec": {
   "display_name": "all",
   "language": "python",
   "name": "all"
  },
  "language_info": {
   "codemirror_mode": {
    "name": "ipython",
    "version": 3
   },
   "file_extension": ".py",
   "mimetype": "text/x-python",
   "name": "python",
   "nbconvert_exporter": "python",
   "pygments_lexer": "ipython3",
   "version": "3.7.3"
  }
 },
 "nbformat": 4,
 "nbformat_minor": 4
}
